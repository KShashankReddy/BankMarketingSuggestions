{
  "cells": [
    {
      "cell_type": "markdown",
      "metadata": {
        "id": "view-in-github",
        "colab_type": "text"
      },
      "source": [
        "<a href=\"https://colab.research.google.com/github/KShashankReddy/BankMarketingSuggestions/blob/main/loadfile.ipynb\" target=\"_parent\"><img src=\"https://colab.research.google.com/assets/colab-badge.svg\" alt=\"Open In Colab\"/></a>"
      ]
    },
    {
      "cell_type": "code",
      "execution_count": null,
      "id": "7d475874",
      "metadata": {
        "id": "7d475874"
      },
      "outputs": [],
      "source": [
        "#accessing and downloading the zip file from the given link"
      ]
    },
    {
      "cell_type": "code",
      "execution_count": null,
      "id": "3053a525",
      "metadata": {
        "id": "3053a525",
        "outputId": "657afc55-e4af-410b-e87d-993fa8518392"
      },
      "outputs": [
        {
          "data": {
            "text/plain": [
              "'C:\\\\Users\\\\Akinmegs\\\\Desktop\\\\CapstoneProjects\\\\PortugesBank'"
            ]
          },
          "execution_count": 1,
          "metadata": {},
          "output_type": "execute_result"
        }
      ],
      "source": [
        "pwd"
      ]
    },
    {
      "cell_type": "code",
      "execution_count": null,
      "id": "780e8b2d",
      "metadata": {
        "id": "780e8b2d"
      },
      "outputs": [],
      "source": [
        "# URL of the zip file\n",
        "url = 'https://d3ilbtxij3aepc.cloudfront.net/projects/CDS-Capstone-Projects/PRCP-1000-ProtugeseBank.zip'"
      ]
    },
    {
      "cell_type": "code",
      "execution_count": null,
      "id": "14577507",
      "metadata": {
        "id": "14577507"
      },
      "outputs": [],
      "source": [
        "# Local path to save the downloaded zip file\n",
        "zip_file_path = 'C:\\\\Users\\\\Akinmegs\\\\Desktop\\\\CapstoneProjects\\\\PortugesBank\\\\PRCP-1000-ProtugeseBank.zip'"
      ]
    },
    {
      "cell_type": "code",
      "execution_count": null,
      "id": "e6301af6",
      "metadata": {
        "id": "e6301af6"
      },
      "outputs": [],
      "source": [
        "# Create the target directory if it doesn't exist\n",
        "target_dir = 'C:\\\\Users\\\\Akinmegs\\\\Desktop\\\\CapstoneProjects\\\\PortugesBank'\n",
        "os.makedirs(target_dir, exist_ok=True)"
      ]
    },
    {
      "cell_type": "code",
      "execution_count": null,
      "id": "13fbaa5d",
      "metadata": {
        "id": "13fbaa5d"
      },
      "outputs": [],
      "source": [
        "# Download the zip file\n",
        "response = requests.get(url)\n",
        "with open(zip_file_path, 'wb') as zip_file:\n",
        "    zip_file.write(response.content)"
      ]
    },
    {
      "cell_type": "code",
      "execution_count": null,
      "id": "44b00c7f",
      "metadata": {
        "id": "44b00c7f"
      },
      "outputs": [],
      "source": [
        "# Extract the contents of the zip file\n",
        "with zipfile.ZipFile(zip_file_path, 'r') as zip_ref:\n",
        "    zip_ref.extractall(target_dir)"
      ]
    },
    {
      "cell_type": "code",
      "execution_count": null,
      "id": "c11e3b3c",
      "metadata": {
        "id": "c11e3b3c",
        "outputId": "619d03e4-1e93-4d59-cf1f-b1307ab34c41"
      },
      "outputs": [
        {
          "name": "stdout",
          "output_type": "stream",
          "text": [
            "  age;\"job\";\"marital\";\"education\";\"default\";\"housing\";\"loan\";\"contact\";\"month\";\"day_of_week\";\"duration\";\"campaign\";\"pdays\";\"previous\";\"poutcome\";\"emp.var.rate\";\"cons.price.idx\";\"cons.conf.idx\";\"euribor3m\";\"nr.employed\";\"y\"\n",
            "0  56;\"housemaid\";\"married\";\"basic.4y\";\"no\";\"no\";...                                                                                                                                                                          \n",
            "1  57;\"services\";\"married\";\"high.school\";\"unknown...                                                                                                                                                                          \n",
            "2  37;\"services\";\"married\";\"high.school\";\"no\";\"ye...                                                                                                                                                                          \n",
            "3  40;\"admin.\";\"married\";\"basic.6y\";\"no\";\"no\";\"no...                                                                                                                                                                          \n",
            "4  56;\"services\";\"married\";\"high.school\";\"no\";\"no...                                                                                                                                                                          \n"
          ]
        }
      ],
      "source": [
        "# Path to the folder containing the extracted data\n",
        "data_folder = 'C:\\\\Users\\\\Akinmegs\\\\Desktop\\\\CapstoneProjects\\\\PortugesBank\\\\Data\\\\bank-additional'\n",
        "\n",
        "# List all the files in the data folder\n",
        "data_files = os.listdir(data_folder)\n",
        "\n",
        "# Assuming the extracted folder contains CSV files, you can loop through the files and read them using Pandas\n",
        "dataframes = {}  # A dictionary to store dataframes\n",
        "\n",
        "for file in data_files:\n",
        "    if file.endswith('.csv'):\n",
        "        file_path = os.path.join(data_folder, file)\n",
        "        dataframe_name = os.path.splitext(file)[0]  # Use the file name without extension as the dictionary key\n",
        "        dataframes[dataframe_name] = pd.read_csv(file_path)\n",
        "\n",
        "# Now you have a dictionary where keys are dataframe names and values are corresponding dataframes\n",
        "# You can access a specific dataframe using its key, e.g., dataframes['filename']\n",
        "\n",
        "# Example: Display the dataframe in table form\n",
        "\n",
        "print(dataframes['bank-additional-full'].head())  # Show the first few rows\n",
        "#print(dataframes['bank-additional-full'].to_string(index=False))"
      ]
    },
    {
      "cell_type": "code",
      "execution_count": null,
      "id": "b828473f",
      "metadata": {
        "id": "b828473f"
      },
      "outputs": [],
      "source": []
    },
    {
      "cell_type": "code",
      "execution_count": null,
      "id": "bfe7bc96",
      "metadata": {
        "id": "bfe7bc96",
        "outputId": "5ad3a406-594a-49b7-f120-d9d27ede02a6"
      },
      "outputs": [
        {
          "name": "stdout",
          "output_type": "stream",
          "text": [
            "Available dataframe keys: dict_keys(['bank-additional-full', 'bank-additional'])\n"
          ]
        }
      ],
      "source": [
        "print(\"Available dataframe keys:\", dataframes.keys())"
      ]
    },
    {
      "cell_type": "code",
      "execution_count": null,
      "id": "e933eead",
      "metadata": {
        "id": "e933eead",
        "outputId": "b5ef324a-ea15-4b1a-cb69-85b320c61a56"
      },
      "outputs": [
        {
          "name": "stdout",
          "output_type": "stream",
          "text": [
            "  age;\"job\";\"marital\";\"education\";\"default\";\"housing\";\"loan\";\"contact\";\"month\";\"day_of_week\";\"duration\";\"campaign\";\"pdays\";\"previous\";\"poutcome\";\"emp.var.rate\";\"cons.price.idx\";\"cons.conf.idx\";\"euribor3m\";\"nr.employed\";\"y\"\n",
            "0  56;\"housemaid\";\"married\";\"basic.4y\";\"no\";\"no\";...                                                                                                                                                                          \n",
            "1  57;\"services\";\"married\";\"high.school\";\"unknown...                                                                                                                                                                          \n",
            "2  37;\"services\";\"married\";\"high.school\";\"no\";\"ye...                                                                                                                                                                          \n",
            "3  40;\"admin.\";\"married\";\"basic.6y\";\"no\";\"no\";\"no...                                                                                                                                                                          \n",
            "4  56;\"services\";\"married\";\"high.school\";\"no\";\"no...                                                                                                                                                                          \n"
          ]
        }
      ],
      "source": [
        "print(dataframes['bank-additional-full'].head())"
      ]
    },
    {
      "cell_type": "code",
      "execution_count": null,
      "id": "4c5cf6ba",
      "metadata": {
        "id": "4c5cf6ba",
        "outputId": "0eb6c6ec-bdcd-46bd-8517-f9d4d9289b56"
      },
      "outputs": [
        {
          "name": "stdout",
          "output_type": "stream",
          "text": [
            "  age;\"job\";\"marital\";\"education\";\"default\";\"housing\";\"loan\";\"contact\";\"month\";\"day_of_week\";\"duration\";\"campaign\";\"pdays\";\"previous\";\"poutcome\";\"emp.var.rate\";\"cons.price.idx\";\"cons.conf.idx\";\"euribor3m\";\"nr.employed\";\"y\"\n",
            "0  30;\"blue-collar\";\"married\";\"basic.9y\";\"no\";\"ye...                                                                                                                                                                          \n",
            "1  39;\"services\";\"single\";\"high.school\";\"no\";\"no\"...                                                                                                                                                                          \n",
            "2  25;\"services\";\"married\";\"high.school\";\"no\";\"ye...                                                                                                                                                                          \n",
            "3  38;\"services\";\"married\";\"basic.9y\";\"no\";\"unkno...                                                                                                                                                                          \n",
            "4  47;\"admin.\";\"married\";\"university.degree\";\"no\"...                                                                                                                                                                          \n",
            "5  32;\"services\";\"single\";\"university.degree\";\"no...                                                                                                                                                                          \n",
            "6  32;\"admin.\";\"single\";\"university.degree\";\"no\";...                                                                                                                                                                          \n",
            "7  41;\"entrepreneur\";\"married\";\"university.degree...                                                                                                                                                                          \n",
            "8  31;\"services\";\"divorced\";\"professional.course\"...                                                                                                                                                                          \n",
            "9  35;\"blue-collar\";\"married\";\"basic.9y\";\"unknown...                                                                                                                                                                          \n"
          ]
        }
      ],
      "source": [
        "print(dataframes['bank-additional'].head(10))"
      ]
    },
    {
      "cell_type": "code",
      "execution_count": null,
      "id": "cdee97ec",
      "metadata": {
        "id": "cdee97ec"
      },
      "outputs": [],
      "source": [
        "from io import StringIO  # For working with strings as file-like objects"
      ]
    },
    {
      "cell_type": "code",
      "execution_count": null,
      "id": "cd41cc56",
      "metadata": {
        "id": "cd41cc56",
        "outputId": "38f68aa0-863c-4ef2-b6af-27cb63c14753"
      },
      "outputs": [
        {
          "name": "stdout",
          "output_type": "stream",
          "text": [
            "Empty DataFrame\n",
            "Columns: [bank-additional]\n",
            "Index: []\n"
          ]
        }
      ],
      "source": [
        "# Convert the string data to a file-like object\n",
        "data_io = StringIO(dataframe_name)\n",
        "\n",
        "# Read the data into a Pandas DataFrame\n",
        "df = pd.read_csv(data_io, sep=';', quotechar='\"')\n",
        "\n",
        "# Display the DataFrame\n",
        "print(df)"
      ]
    },
    {
      "cell_type": "code",
      "execution_count": null,
      "id": "327bc858",
      "metadata": {
        "id": "327bc858"
      },
      "outputs": [],
      "source": [
        "https://colab.research.google.com/drive/1_YZigHmr09BdEm4ktCRNuim-Sx_w_bWW?usp=sharing"
      ]
    }
  ],
  "metadata": {
    "kernelspec": {
      "display_name": "Python 3 (ipykernel)",
      "language": "python",
      "name": "python3"
    },
    "language_info": {
      "codemirror_mode": {
        "name": "ipython",
        "version": 3
      },
      "file_extension": ".py",
      "mimetype": "text/x-python",
      "name": "python",
      "nbconvert_exporter": "python",
      "pygments_lexer": "ipython3",
      "version": "3.11.3"
    },
    "colab": {
      "provenance": [],
      "include_colab_link": true
    }
  },
  "nbformat": 4,
  "nbformat_minor": 5
}